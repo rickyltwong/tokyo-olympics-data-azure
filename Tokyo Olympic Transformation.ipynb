{
 "cells": [
  {
   "cell_type": "code",
   "execution_count": 0,
   "metadata": {
    "application/vnd.databricks.v1+cell": {
     "cellMetadata": {
      "byteLimit": 2048000,
      "rowLimit": 10000
     },
     "inputWidgets": {},
     "nuid": "4c63841d-cbea-4785-9a1c-cdc4e750d986",
     "showTitle": false,
     "title": ""
    }
   },
   "outputs": [],
   "source": [
    "from pyspark.sql.functions import col\n",
    "from pyspark.sql.types import IntegerType, DoubleType, BooleanType, DateType"
   ]
  },
  {
   "cell_type": "code",
   "execution_count": 0,
   "metadata": {
    "application/vnd.databricks.v1+cell": {
     "cellMetadata": {
      "byteLimit": 2048000,
      "rowLimit": 10000
     },
     "inputWidgets": {},
     "nuid": "a9ecc213-f92d-4d2d-81a4-b284cc86fa4e",
     "showTitle": false,
     "title": ""
    }
   },
   "outputs": [],
   "source": [
    "# Use SAS instead\n",
    "\n",
    "sas_token = \"sp=racwdlmeop&st=2023-10-17T16:59:59Z&se=2023-10-18T00:59:59Z&spr=https&sv=2022-11-02&sr=c&sig=7GYCZyR0Krk6WlVM6OniZXMmd%2FZgi4Q0BaaEblbYhtQ%3D\"\n",
    "\n",
    "conf_key = f\"fs.azure.sas.tokyo-olympic-data.rwadls.blob.core.windows.net\"\n",
    "\n",
    "\n",
    "try:\n",
    "  dbutils.fs.mount(\n",
    "    source = f\"wasbs://tokyo-olympic-data@rwadls.blob.core.windows.net/\",\n",
    "    mount_point = f\"/mnt/tokyoolympic\",\n",
    "    extra_configs = {conf_key: sas_token})\n",
    "except:\n",
    "  pass\n"
   ]
  },
  {
   "cell_type": "code",
   "execution_count": 0,
   "metadata": {
    "application/vnd.databricks.v1+cell": {
     "cellMetadata": {
      "byteLimit": 2048000,
      "rowLimit": 10000
     },
     "inputWidgets": {},
     "nuid": "c696ef4a-6535-4165-b775-5aeab74e3a49",
     "showTitle": false,
     "title": ""
    }
   },
   "outputs": [],
   "source": [
    "%fs\n",
    "ls \"/mnt/tokyoolympic\""
   ]
  },
  {
   "cell_type": "code",
   "execution_count": 0,
   "metadata": {
    "application/vnd.databricks.v1+cell": {
     "cellMetadata": {
      "byteLimit": 2048000,
      "rowLimit": 10000
     },
     "inputWidgets": {},
     "nuid": "64ccee12-c92a-4a93-b7cd-7fd327336446",
     "showTitle": false,
     "title": ""
    }
   },
   "outputs": [],
   "source": [
    "spark"
   ]
  },
  {
   "cell_type": "code",
   "execution_count": 0,
   "metadata": {
    "application/vnd.databricks.v1+cell": {
     "cellMetadata": {
      "byteLimit": 2048000,
      "rowLimit": 10000
     },
     "inputWidgets": {},
     "nuid": "b8e6f9a7-6d47-4c73-8b01-3d791a8b1154",
     "showTitle": false,
     "title": ""
    }
   },
   "outputs": [],
   "source": [
    "athletes = spark.read.format(\"csv\") \\\n",
    "  .option(\"inferSchema\", \"true\") \\\n",
    "  .option(\"header\", \"true\") \\\n",
    "  .load(\"/mnt/tokyoolympic/raw-data/athletes.csv\")\n",
    "\n",
    "coaches = spark.read.format(\"csv\") \\\n",
    "  .option(\"inferSchema\", \"true\") \\\n",
    "  .option(\"header\", \"true\") \\\n",
    "  .load(\"/mnt/tokyoolympic/raw-data/coaches.csv\")\n",
    "\n",
    "entries_gender = spark.read.format(\"csv\") \\\n",
    "  .option(\"inferSchema\", \"true\") \\\n",
    "  .option(\"header\", \"true\") \\\n",
    "  .load(\"/mnt/tokyoolympic/raw-data/entries_gender.csv\")\n",
    "\n",
    "medals = spark.read.format(\"csv\") \\\n",
    "  .option(\"inferSchema\", \"true\") \\\n",
    "  .option(\"header\", \"true\") \\\n",
    "  .load(\"/mnt/tokyoolympic/raw-data/medals.csv\")\n",
    "\n",
    "teams = spark.read.format(\"csv\") \\\n",
    "  .option(\"inferSchema\", \"true\") \\\n",
    "  .option(\"header\", \"true\") \\\n",
    "  .load(\"/mnt/tokyoolympic/raw-data/teams.csv\")\n"
   ]
  },
  {
   "cell_type": "code",
   "execution_count": 0,
   "metadata": {
    "application/vnd.databricks.v1+cell": {
     "cellMetadata": {
      "byteLimit": 2048000,
      "rowLimit": 10000
     },
     "inputWidgets": {},
     "nuid": "dbc51c21-47c5-4fcd-8f6b-58fd0de3602e",
     "showTitle": false,
     "title": ""
    }
   },
   "outputs": [],
   "source": [
    "# show data\n",
    "athletes.show(10)\n",
    "\n",
    "# understand the schema\n",
    "athletes.printSchema()\n",
    "\n",
    "# show data\n",
    "coaches.show(10)\n",
    "\n",
    "# understand the schema\n",
    "coaches.printSchema()\n",
    "\n",
    "entries_gender.show(10)\n",
    "entries_gender.printSchema()\n",
    "\n",
    "medals.show(10)\n",
    "medals.printSchema()\n",
    "\n",
    "teams.show(10)\n",
    "teams.printSchema()"
   ]
  },
  {
   "cell_type": "code",
   "execution_count": 0,
   "metadata": {
    "application/vnd.databricks.v1+cell": {
     "cellMetadata": {
      "byteLimit": 2048000,
      "rowLimit": 10000
     },
     "inputWidgets": {},
     "nuid": "c2442bb6-5e9e-4544-a636-212eea4dd67c",
     "showTitle": false,
     "title": ""
    }
   },
   "outputs": [],
   "source": [
    "entries_gender = entries_gender.withColumn(\"Female\", col(\"Female\").cast(IntegerType()))\\\n",
    "    .withColumn(\"Male\", col(\"Male\").cast(IntegerType())) \\\n",
    "    .withColumn(\"Total\", col(\"Total\").cast(IntegerType()))"
   ]
  },
  {
   "cell_type": "code",
   "execution_count": 0,
   "metadata": {
    "application/vnd.databricks.v1+cell": {
     "cellMetadata": {
      "byteLimit": 2048000,
      "rowLimit": 10000
     },
     "inputWidgets": {},
     "nuid": "15413a9b-7e73-49c0-98a0-3b66c6b69753",
     "showTitle": false,
     "title": ""
    }
   },
   "outputs": [],
   "source": [
    "top_gold_medal_countries = medals.orderBy(\"Gold\", ascending=False).show()"
   ]
  },
  {
   "cell_type": "code",
   "execution_count": 0,
   "metadata": {
    "application/vnd.databricks.v1+cell": {
     "cellMetadata": {
      "byteLimit": 2048000,
      "rowLimit": 10000
     },
     "inputWidgets": {},
     "nuid": "ec0854ed-a3dc-4510-b833-b77d53491ed2",
     "showTitle": false,
     "title": ""
    }
   },
   "outputs": [],
   "source": [
    "average_entries_by_gender = entries_gender.withColumn(\n",
    "    'Avg_Female', entries_gender['Female'] / entries_gender['Total']\n",
    ").withColumn(\n",
    "    'Avg_Male', entries_gender['Male'] / entries_gender['Total']\n",
    ")\n",
    "average_entries_by_gender.show()"
   ]
  },
  {
   "cell_type": "code",
   "execution_count": 0,
   "metadata": {
    "application/vnd.databricks.v1+cell": {
     "cellMetadata": {
      "byteLimit": 2048000,
      "rowLimit": 10000
     },
     "inputWidgets": {},
     "nuid": "470e20f7-ccbc-4545-8dd0-cfeed17513d0",
     "showTitle": false,
     "title": ""
    }
   },
   "outputs": [],
   "source": [
    "athletes.repartition(1).write.mode(\"overwrite\").option(\"header\",'true').csv(\"/mnt/tokyoolympic/transformed-data/athletes\")\n",
    "coaches.repartition(1).write.mode(\"overwrite\").option(\"header\",\"true\").csv(\"/mnt/tokyoolympic/transformed-data/coaches\")\n",
    "entries_gender.repartition(1).write.mode(\"overwrite\").option(\"header\",\"true\").csv(\"/mnt/tokyoolympic/transformed-data/entries_gender\")\n",
    "medals.repartition(1).write.mode(\"overwrite\").option(\"header\",\"true\").csv(\"/mnt/tokyoolympic/transformed-data/medals\")\n",
    "teams.repartition(1).write.mode(\"overwrite\").option(\"header\",\"true\").csv(\"/mnt/tokyoolympic/transformed-data/teams\")"
   ]
  },
  {
   "cell_type": "code",
   "execution_count": 0,
   "metadata": {
    "application/vnd.databricks.v1+cell": {
     "cellMetadata": {
      "byteLimit": 2048000,
      "rowLimit": 10000
     },
     "inputWidgets": {},
     "nuid": "147bc2bd-5642-45ff-ab4b-71e30a01e15a",
     "showTitle": false,
     "title": ""
    }
   },
   "outputs": [],
   "source": [
    "%fs ls \"/mnt/tokyoolympic/transformed-data\""
   ]
  }
 ],
 "metadata": {
  "application/vnd.databricks.v1+notebook": {
   "dashboards": [],
   "language": "python",
   "notebookMetadata": {
    "mostRecentlyExecutedCommandWithImplicitDF": {
     "commandId": 3857302738284797,
     "dataframes": [
      "_sqldf"
     ]
    },
    "pythonIndentUnit": 4
   },
   "notebookName": "Tokyo Olympic Transformation",
   "widgets": {}
  }
 },
 "nbformat": 4,
 "nbformat_minor": 0
}
